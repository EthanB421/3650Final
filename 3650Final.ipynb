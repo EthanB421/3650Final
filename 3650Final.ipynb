{
  "nbformat": 4,
  "nbformat_minor": 0,
  "metadata": {
    "colab": {
      "provenance": []
    },
    "kernelspec": {
      "name": "python3",
      "display_name": "Python 3"
    },
    "language_info": {
      "name": "python"
    }
  },
  "cells": [
    {
      "cell_type": "code",
      "execution_count": null,
      "metadata": {
        "id": "JTllZJLuzqiI"
      },
      "outputs": [],
      "source": [
        "pip install qiskit numpy jupyterlab matplotlib qiskit-ibmq-provider"
      ]
    },
    {
      "cell_type": "code",
      "source": [
        "pip install pylatexenc\n"
      ],
      "metadata": {
        "id": "dbU_BTsvFEsG"
      },
      "execution_count": null,
      "outputs": []
    },
    {
      "cell_type": "code",
      "source": [
        "import qiskit as q\n",
        "circuit =q.QuantumCircuit(2,2) #two qubits, and two classical bits\n",
        "\n",
        "circuit.x(0) #We are going to apply a NOT gate to qubit 0\n",
        "circuit.cx(0,1) #This entangles two qubits. IT flips the 2nd qubit value IF the first qubit only is a 1\n",
        "\n",
        "circuit.measure([0,1],[0,1])\n",
        "circuit.draw()"
      ],
      "metadata": {
        "colab": {
          "base_uri": "https://localhost:8080/",
          "height": 125
        },
        "id": "z3rG62axztcQ",
        "outputId": "fc6804f4-dc5c-4cac-c6ba-060ef0cdad93"
      },
      "execution_count": 1,
      "outputs": [
        {
          "output_type": "execute_result",
          "data": {
            "text/plain": [
              "     ┌───┐     ┌─┐   \n",
              "q_0: ┤ X ├──■──┤M├───\n",
              "     └───┘┌─┴─┐└╥┘┌─┐\n",
              "q_1: ─────┤ X ├─╫─┤M├\n",
              "          └───┘ ║ └╥┘\n",
              "c: 2/═══════════╩══╩═\n",
              "                0  1 "
            ],
            "text/html": [
              "<pre style=\"word-wrap: normal;white-space: pre;background: #fff0;line-height: 1.1;font-family: &quot;Courier New&quot;,Courier,monospace\">     ┌───┐     ┌─┐   \n",
              "q_0: ┤ X ├──■──┤M├───\n",
              "     └───┘┌─┴─┐└╥┘┌─┐\n",
              "q_1: ─────┤ X ├─╫─┤M├\n",
              "          └───┘ ║ └╥┘\n",
              "c: 2/═══════════╩══╩═\n",
              "                0  1 </pre>"
            ]
          },
          "metadata": {},
          "execution_count": 1
        }
      ]
    },
    {
      "cell_type": "code",
      "source": [
        "circuit.draw(output=\"mpl\") #This is just another visualization of the circuit I created. "
      ],
      "metadata": {
        "colab": {
          "base_uri": "https://localhost:8080/",
          "height": 185
        },
        "id": "Yd0aZEXW0iFc",
        "outputId": "d7a548b9-7db9-4d64-f309-ff3785de5b1b"
      },
      "execution_count": 2,
      "outputs": [
        {
          "output_type": "execute_result",
          "data": {
            "text/plain": [
              "<Figure size 327.252x204.68 with 1 Axes>"
            ],
            "image/png": "[encoded data removed]"
          },
          "metadata": {},
          "execution_count": 2
        }
      ]
    },
    {
      "cell_type": "code",
      "source": [
        "from qiskit import IBMQ\n",
        "\n",
        "IBMQ.save_account(\"110c4e580f5f2766662a5b5796bb5da90620e11859f57d4e69ab0aab12eeede1a8f3bfd6234b49ff2b3b1d0b1dd0ee96562ddca6c7d608aeaaca0288a38583d2\")"
      ],
      "metadata": {
        "id": "vAt4Yy-C0B9E",
        "colab": {
          "base_uri": "https://localhost:8080/"
        },
        "outputId": "1f8ec822-d3b7-4767-c41d-faa567b0b7d6"
      },
      "execution_count": 7,
      "outputs": [
        {
          "output_type": "stream",
          "name": "stderr",
          "text": [
            "configrc.store_credentials:WARNING:2022-12-15 18:39:59,044: Credentials already present. Set overwrite=True to overwrite.\n"
          ]
        }
      ]
    },
    {
      "cell_type": "code",
      "source": [
        "IBMQ.load_account()"
      ],
      "metadata": {
        "colab": {
          "base_uri": "https://localhost:8080/"
        },
        "id": "MpgmL6bUFj8W",
        "outputId": "08cc5273-9751-4c74-a406-ae1b4383bb14"
      },
      "execution_count": 9,
      "outputs": [
        {
          "output_type": "execute_result",
          "data": {
            "text/plain": [
              "<AccountProvider for IBMQ(hub='ibm-q', group='open', project='main')>"
            ]
          },
          "metadata": {},
          "execution_count": 9
        }
      ]
    },
    {
      "cell_type": "code",
      "source": [
        "provider = IBMQ.get_provider(hub = \"ibm-q\", group='open', project='main') \n",
        "\n",
        "for backend in provider.backends():\n",
        "  try:\n",
        "    qubit_count = len(backend.properties().qubits)\n",
        "  except:\n",
        "    qubit_count = \"simulated\"\n",
        "  print(f'{backend.name()} has {backend.status().pending_jobs} queued and {qubit_count} qubits')\n",
        "\n",
        "  #This just lists the various quantum machines with the queue size and the amount of qubits available"
      ],
      "metadata": {
        "colab": {
          "base_uri": "https://localhost:8080/"
        },
        "id": "36mBeBKlEhTK",
        "outputId": "55ef5823-97a6-40e0-c209-43c6f58941f8"
      },
      "execution_count": 10,
      "outputs": [
        {
          "output_type": "stream",
          "name": "stdout",
          "text": [
            "ibmq_qasm_simulator has 2 queued and simulated qubits\n",
            "ibmq_lima has 158 queued and 5 qubits\n",
            "ibmq_belem has 12 queued and 5 qubits\n",
            "ibmq_quito has 17 queued and 5 qubits\n",
            "simulator_statevector has 2 queued and simulated qubits\n",
            "simulator_mps has 2 queued and simulated qubits\n",
            "simulator_extended_stabilizer has 2 queued and simulated qubits\n",
            "simulator_stabilizer has 2 queued and simulated qubits\n",
            "ibmq_manila has 9 queued and 5 qubits\n",
            "ibm_nairobi has 38 queued and 7 qubits\n",
            "ibm_oslo has 53 queued and 7 qubits\n"
          ]
        }
      ]
    },
    {
      "cell_type": "code",
      "source": [
        "from qiskit.tools.monitor import job_monitor\n",
        "backend= provider.get_backend(\"ibmq_belem\")\n",
        "job = q.execute(circuit, backend=backend, shots=500) #500 results, or the counts of the actual bit values that we returned\n",
        "job_monitor(job)"
      ],
      "metadata": {
        "colab": {
          "base_uri": "https://localhost:8080/"
        },
        "id": "77iRAE55EhcO",
        "outputId": "ae674b5a-b779-4759-c279-29bf49643716"
      },
      "execution_count": 19,
      "outputs": [
        {
          "output_type": "stream",
          "name": "stdout",
          "text": [
            "Job Status: job has successfully run\n"
          ]
        }
      ]
    },
    {
      "cell_type": "code",
      "source": [
        "from qiskit.visualization import plot_histogram\n",
        "result = job.result()\n",
        "counts = result.get_counts(circuit)\n",
        "\n",
        "#This is a depiction of entanglement\n",
        "plot_histogram([counts])"
      ],
      "metadata": {
        "colab": {
          "base_uri": "https://localhost:8080/",
          "height": 331
        },
        "id": "yXy8fIslEhgp",
        "outputId": "ba51f837-96a1-4377-ebf3-32bedf3ad38c"
      },
      "execution_count": 20,
      "outputs": [
        {
          "output_type": "execute_result",
          "data": {
            "text/plain": [
              "<Figure size 504x360 with 1 Axes>"
            ],
            "image/png": "[encoded data removed]"
          },
          "metadata": {},
          "execution_count": 20
        }
      ]
    },
    {
      "cell_type": "code",
      "source": [
        "backend = provider.get_backend(\"ibmq_qasm_simulator\")\n",
        "circuit =q.QuantumCircuit(2,2)\n",
        "\n",
        "circuit.h(0)\n",
        "circuit.cx(0,1)\n",
        "\n",
        "circuit.measure([0,1],[0,1])\n",
        "circuit.draw()"
      ],
      "metadata": {
        "colab": {
          "base_uri": "https://localhost:8080/",
          "height": 125
        },
        "id": "Ct3rjeIjH3cI",
        "outputId": "2c64ef97-896f-471f-c9c7-e84b493e29da"
      },
      "execution_count": 29,
      "outputs": [
        {
          "output_type": "execute_result",
          "data": {
            "text/plain": [
              "     ┌───┐     ┌─┐   \n",
              "q_0: ┤ H ├──■──┤M├───\n",
              "     └───┘┌─┴─┐└╥┘┌─┐\n",
              "q_1: ─────┤ X ├─╫─┤M├\n",
              "          └───┘ ║ └╥┘\n",
              "c: 2/═══════════╩══╩═\n",
              "                0  1 "
            ],
            "text/html": [
              "<pre style=\"word-wrap: normal;white-space: pre;background: #fff0;line-height: 1.1;font-family: &quot;Courier New&quot;,Courier,monospace\">     ┌───┐     ┌─┐   \n",
              "q_0: ┤ H ├──■──┤M├───\n",
              "     └───┘┌─┴─┐└╥┘┌─┐\n",
              "q_1: ─────┤ X ├─╫─┤M├\n",
              "          └───┘ ║ └╥┘\n",
              "c: 2/═══════════╩══╩═\n",
              "                0  1 </pre>"
            ]
          },
          "metadata": {},
          "execution_count": 29
        }
      ]
    },
    {
      "cell_type": "code",
      "source": [
        "job = q.execute(circuit, backend=backend, shots=500) #500 results, or the counts of the actual bit values that we returned\n",
        "job_monitor(job)"
      ],
      "metadata": {
        "colab": {
          "base_uri": "https://localhost:8080/"
        },
        "id": "cAARAOFLH3Z2",
        "outputId": "6983241f-0729-415f-fa59-43bcb29e17a4"
      },
      "execution_count": 30,
      "outputs": [
        {
          "output_type": "stream",
          "name": "stdout",
          "text": [
            "Job Status: job has successfully run\n"
          ]
        }
      ]
    },
    {
      "cell_type": "code",
      "source": [
        "result = job.result()\n",
        "counts = result.get_counts(circuit)\n",
        "\n",
        "#This is the reuslt of a 'perfcect' quantum machine. \n",
        "plot_histogram([counts])"
      ],
      "metadata": {
        "colab": {
          "base_uri": "https://localhost:8080/",
          "height": 331
        },
        "id": "j0LjcK7gH3Xl",
        "outputId": "353be825-5293-4ac1-b533-411342de33d3"
      },
      "execution_count": 31,
      "outputs": [
        {
          "output_type": "execute_result",
          "data": {
            "text/plain": [
              "<Figure size 504x360 with 1 Axes>"
            ],
            "image/png": "[encoded data removed]"
          },
          "metadata": {},
          "execution_count": 31
        }
      ]
    },
    {
      "cell_type": "code",
      "source": [],
      "metadata": {
        "id": "twTD_1fZH3VH"
      },
      "execution_count": null,
      "outputs": []
    },
    {
      "cell_type": "code",
      "source": [],
      "metadata": {
        "id": "67avH3vnH3Sn"
      },
      "execution_count": null,
      "outputs": []
    },
    {
      "cell_type": "code",
      "source": [],
      "metadata": {
        "id": "O_Fes6mgH3N2"
      },
      "execution_count": null,
      "outputs": []
    },
    {
      "cell_type": "code",
      "source": [],
      "metadata": {
        "id": "FV1VqDXtH3Lp"
      },
      "execution_count": null,
      "outputs": []
    }
  ]
}